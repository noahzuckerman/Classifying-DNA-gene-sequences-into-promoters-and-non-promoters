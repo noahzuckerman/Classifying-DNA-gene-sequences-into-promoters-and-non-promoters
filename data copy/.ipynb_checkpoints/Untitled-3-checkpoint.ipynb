{
 "cells": [
  {
   "cell_type": "code",
   "execution_count": 162,
   "metadata": {},
   "outputs": [],
   "source": [
    "import pandas as pd\n",
    "import numpy as np\n",
    "import os\n",
    "\n",
    "from keras import utils\n",
    "from sklearn.model_selection import train_test_split\n",
    "from keras.models import Sequential\n",
    "from keras.layers import Dense, Dropout, Flatten, Conv1D, MaxPooling1D, MaxPooling2D, Conv2D\n",
    "from keras import regularizers"
   ]
  },
  {
   "cell_type": "code",
   "execution_count": 2,
   "metadata": {},
   "outputs": [
    {
     "data": {
      "text/html": [
       "<div>\n",
       "<style scoped>\n",
       "    .dataframe tbody tr th:only-of-type {\n",
       "        vertical-align: middle;\n",
       "    }\n",
       "\n",
       "    .dataframe tbody tr th {\n",
       "        vertical-align: top;\n",
       "    }\n",
       "\n",
       "    .dataframe thead th {\n",
       "        text-align: right;\n",
       "    }\n",
       "</style>\n",
       "<table border=\"1\" class=\"dataframe\">\n",
       "  <thead>\n",
       "    <tr style=\"text-align: right;\">\n",
       "      <th></th>\n",
       "      <th>sequence</th>\n",
       "      <th>label</th>\n",
       "    </tr>\n",
       "  </thead>\n",
       "  <tbody>\n",
       "    <tr>\n",
       "      <th>0</th>\n",
       "      <td>TAATTACATTATTTTTTTATTTACGAATTTGTTATTCCGCTTTTAT...</td>\n",
       "      <td>0</td>\n",
       "    </tr>\n",
       "    <tr>\n",
       "      <th>1</th>\n",
       "      <td>ATTTTTACAAGAACAAGACATTTAACTTTAACTTTATCTTTAGCTT...</td>\n",
       "      <td>0</td>\n",
       "    </tr>\n",
       "    <tr>\n",
       "      <th>2</th>\n",
       "      <td>AGAGATAGGTGGGTCTGTAACACTCGAATCAAAAACAATATTAAGA...</td>\n",
       "      <td>0</td>\n",
       "    </tr>\n",
       "    <tr>\n",
       "      <th>3</th>\n",
       "      <td>TATGTATATAGAGATAGGCGTTGCCAATAACTTTTGCGTTTTTTGC...</td>\n",
       "      <td>0</td>\n",
       "    </tr>\n",
       "    <tr>\n",
       "      <th>4</th>\n",
       "      <td>AGAAATAATAGCTAGAGCAAAAAACAGCTTAGAACGGCTGATGCTC...</td>\n",
       "      <td>0</td>\n",
       "    </tr>\n",
       "    <tr>\n",
       "      <th>...</th>\n",
       "      <td>...</td>\n",
       "      <td>...</td>\n",
       "    </tr>\n",
       "    <tr>\n",
       "      <th>11295</th>\n",
       "      <td>TGGTAAAAAATTGTACACCTAACTAGTGCCTTCATGTATACCACCA...</td>\n",
       "      <td>0</td>\n",
       "    </tr>\n",
       "    <tr>\n",
       "      <th>11296</th>\n",
       "      <td>AGTGCAACTGGAGCCGTGCCGTGACCCACAGAGATCGCCCACTCGA...</td>\n",
       "      <td>0</td>\n",
       "    </tr>\n",
       "    <tr>\n",
       "      <th>11297</th>\n",
       "      <td>GCATGGATTTCATATTATCTTAATCGACTTGCTTTTATAAAATAGG...</td>\n",
       "      <td>0</td>\n",
       "    </tr>\n",
       "    <tr>\n",
       "      <th>11298</th>\n",
       "      <td>GTGACCAGGTTTTGCTCTAATGCGAAGTACGGATTGGGTAGAGATA...</td>\n",
       "      <td>0</td>\n",
       "    </tr>\n",
       "    <tr>\n",
       "      <th>11299</th>\n",
       "      <td>TCATATTGAAAATTGATAAGATTGATATTAACGTAGCAAAGAAAGC...</td>\n",
       "      <td>0</td>\n",
       "    </tr>\n",
       "  </tbody>\n",
       "</table>\n",
       "<p>11300 rows × 2 columns</p>\n",
       "</div>"
      ],
      "text/plain": [
       "                                                sequence  label\n",
       "0      TAATTACATTATTTTTTTATTTACGAATTTGTTATTCCGCTTTTAT...      0\n",
       "1      ATTTTTACAAGAACAAGACATTTAACTTTAACTTTATCTTTAGCTT...      0\n",
       "2      AGAGATAGGTGGGTCTGTAACACTCGAATCAAAAACAATATTAAGA...      0\n",
       "3      TATGTATATAGAGATAGGCGTTGCCAATAACTTTTGCGTTTTTTGC...      0\n",
       "4      AGAAATAATAGCTAGAGCAAAAAACAGCTTAGAACGGCTGATGCTC...      0\n",
       "...                                                  ...    ...\n",
       "11295  TGGTAAAAAATTGTACACCTAACTAGTGCCTTCATGTATACCACCA...      0\n",
       "11296  AGTGCAACTGGAGCCGTGCCGTGACCCACAGAGATCGCCCACTCGA...      0\n",
       "11297  GCATGGATTTCATATTATCTTAATCGACTTGCTTTTATAAAATAGG...      0\n",
       "11298  GTGACCAGGTTTTGCTCTAATGCGAAGTACGGATTGGGTAGAGATA...      0\n",
       "11299  TCATATTGAAAATTGATAAGATTGATATTAACGTAGCAAAGAAAGC...      0\n",
       "\n",
       "[11300 rows x 2 columns]"
      ]
     },
     "metadata": {},
     "output_type": "display_data"
    },
    {
     "data": {
      "text/plain": [
       "(11300, 2)"
      ]
     },
     "metadata": {},
     "output_type": "display_data"
    }
   ],
   "source": [
    "df = pd.read_csv('NonPromoterSequence.txt', sep = '>', )\n",
    "df.dropna(subset=['Unnamed: 0'], how='all', inplace=True)\n",
    "df.reset_index(inplace = True)\n",
    "df.drop(['EP 1 (+) mt:CoI_1; range -400 to -100.', 'index'], axis = 1, inplace=True)\n",
    "df.rename(columns={'Unnamed: 0': \"sequence\"}, inplace = True)\n",
    "df['label'] = 0\n",
    "display(df)\n",
    "display(df.shape)"
   ]
  },
  {
   "cell_type": "code",
   "execution_count": 3,
   "metadata": {},
   "outputs": [
    {
     "data": {
      "text/html": [
       "<div>\n",
       "<style scoped>\n",
       "    .dataframe tbody tr th:only-of-type {\n",
       "        vertical-align: middle;\n",
       "    }\n",
       "\n",
       "    .dataframe tbody tr th {\n",
       "        vertical-align: top;\n",
       "    }\n",
       "\n",
       "    .dataframe thead th {\n",
       "        text-align: right;\n",
       "    }\n",
       "</style>\n",
       "<table border=\"1\" class=\"dataframe\">\n",
       "  <thead>\n",
       "    <tr style=\"text-align: right;\">\n",
       "      <th></th>\n",
       "      <th>sequence</th>\n",
       "      <th>label</th>\n",
       "    </tr>\n",
       "  </thead>\n",
       "  <tbody>\n",
       "    <tr>\n",
       "      <th>0</th>\n",
       "      <td>TTAATTTGTCCTTATTTGATTAAGAAGAATAAATCTTATATATAGA...</td>\n",
       "      <td>1</td>\n",
       "    </tr>\n",
       "    <tr>\n",
       "      <th>1</th>\n",
       "      <td>ATAGCTCAAATTGCTTTATTAGTATTAGAATCAGCTGTAGCTATAA...</td>\n",
       "      <td>1</td>\n",
       "    </tr>\n",
       "    <tr>\n",
       "      <th>2</th>\n",
       "      <td>AAGCTTCCCTTTAATGTGCTCCTTGTGAATACAGCATTACAATGCC...</td>\n",
       "      <td>1</td>\n",
       "    </tr>\n",
       "    <tr>\n",
       "      <th>3</th>\n",
       "      <td>TATGTAGAATCTGTACAAGTATCTGTGTTTGGACAATGGCATGTGT...</td>\n",
       "      <td>1</td>\n",
       "    </tr>\n",
       "    <tr>\n",
       "      <th>4</th>\n",
       "      <td>ACATATTACTGCATACAGGTCTCAAATTATAAAATGACACTCGTGG...</td>\n",
       "      <td>1</td>\n",
       "    </tr>\n",
       "    <tr>\n",
       "      <th>...</th>\n",
       "      <td>...</td>\n",
       "      <td>...</td>\n",
       "    </tr>\n",
       "    <tr>\n",
       "      <th>11295</th>\n",
       "      <td>CGACAAAGTTTGATCCATGTGCATTCTTGGCGCCTTATCGATAGCT...</td>\n",
       "      <td>1</td>\n",
       "    </tr>\n",
       "    <tr>\n",
       "      <th>11296</th>\n",
       "      <td>CATATCTACATCTCGCTTGCTCCTTCCCTTTCGCTGCGTGTGTGTG...</td>\n",
       "      <td>1</td>\n",
       "    </tr>\n",
       "    <tr>\n",
       "      <th>11297</th>\n",
       "      <td>ATACCGCGGAAGCGCAAAAGTACCAGAATTTCCCTGGTATCGCGCT...</td>\n",
       "      <td>1</td>\n",
       "    </tr>\n",
       "    <tr>\n",
       "      <th>11298</th>\n",
       "      <td>ATTATTCCGAATTCTTTTATCAGATTTAAATATGGGAAACACTTTA...</td>\n",
       "      <td>1</td>\n",
       "    </tr>\n",
       "    <tr>\n",
       "      <th>11299</th>\n",
       "      <td>AATTCATTTATACCTGCATTTGTAACTGTACTAAATCTTCAACCAA...</td>\n",
       "      <td>1</td>\n",
       "    </tr>\n",
       "  </tbody>\n",
       "</table>\n",
       "<p>11300 rows × 2 columns</p>\n",
       "</div>"
      ],
      "text/plain": [
       "                                                sequence  label\n",
       "0      TTAATTTGTCCTTATTTGATTAAGAAGAATAAATCTTATATATAGA...      1\n",
       "1      ATAGCTCAAATTGCTTTATTAGTATTAGAATCAGCTGTAGCTATAA...      1\n",
       "2      AAGCTTCCCTTTAATGTGCTCCTTGTGAATACAGCATTACAATGCC...      1\n",
       "3      TATGTAGAATCTGTACAAGTATCTGTGTTTGGACAATGGCATGTGT...      1\n",
       "4      ACATATTACTGCATACAGGTCTCAAATTATAAAATGACACTCGTGG...      1\n",
       "...                                                  ...    ...\n",
       "11295  CGACAAAGTTTGATCCATGTGCATTCTTGGCGCCTTATCGATAGCT...      1\n",
       "11296  CATATCTACATCTCGCTTGCTCCTTCCCTTTCGCTGCGTGTGTGTG...      1\n",
       "11297  ATACCGCGGAAGCGCAAAAGTACCAGAATTTCCCTGGTATCGCGCT...      1\n",
       "11298  ATTATTCCGAATTCTTTTATCAGATTTAAATATGGGAAACACTTTA...      1\n",
       "11299  AATTCATTTATACCTGCATTTGTAACTGTACTAAATCTTCAACCAA...      1\n",
       "\n",
       "[11300 rows x 2 columns]"
      ]
     },
     "metadata": {},
     "output_type": "display_data"
    },
    {
     "data": {
      "text/plain": [
       "(11300, 2)"
      ]
     },
     "metadata": {},
     "output_type": "display_data"
    }
   ],
   "source": [
    "df2 = pd.read_csv('PromoterSequence.txt', sep = '>', )\n",
    "df2.dropna(subset=['Unnamed: 0'], how='all', inplace=True)\n",
    "df2.reset_index(inplace = True)\n",
    "df2.drop(['EP 1 (+) mt:CoI_1; range -100 to 200.', 'index'], axis = 1, inplace=True)\n",
    "df2.rename(columns={'Unnamed: 0': \"sequence\"}, inplace = True)\n",
    "df2['label'] = 1\n",
    "\n",
    "display(df2)\n",
    "display(df2.shape)"
   ]
  },
  {
   "cell_type": "code",
   "execution_count": 4,
   "metadata": {},
   "outputs": [
    {
     "data": {
      "text/plain": [
       "(22600, 2)"
      ]
     },
     "execution_count": 4,
     "metadata": {},
     "output_type": "execute_result"
    }
   ],
   "source": [
    "df = pd.concat([df, df2], axis = 0 )\n",
    "df.shape"
   ]
  },
  {
   "cell_type": "code",
   "execution_count": 5,
   "metadata": {},
   "outputs": [
    {
     "data": {
      "text/html": [
       "<div>\n",
       "<style scoped>\n",
       "    .dataframe tbody tr th:only-of-type {\n",
       "        vertical-align: middle;\n",
       "    }\n",
       "\n",
       "    .dataframe tbody tr th {\n",
       "        vertical-align: top;\n",
       "    }\n",
       "\n",
       "    .dataframe thead th {\n",
       "        text-align: right;\n",
       "    }\n",
       "</style>\n",
       "<table border=\"1\" class=\"dataframe\">\n",
       "  <thead>\n",
       "    <tr style=\"text-align: right;\">\n",
       "      <th></th>\n",
       "      <th>sequence</th>\n",
       "      <th>label</th>\n",
       "    </tr>\n",
       "  </thead>\n",
       "  <tbody>\n",
       "    <tr>\n",
       "      <th>1822</th>\n",
       "      <td>NNNNNNNNNNNNNNNNNNNNNNNNNNNNNNNNNNNNNNNNGAATTC...</td>\n",
       "      <td>0</td>\n",
       "    </tr>\n",
       "  </tbody>\n",
       "</table>\n",
       "</div>"
      ],
      "text/plain": [
       "                                               sequence  label\n",
       "1822  NNNNNNNNNNNNNNNNNNNNNNNNNNNNNNNNNNNNNNNNGAATTC...      0"
      ]
     },
     "metadata": {},
     "output_type": "display_data"
    }
   ],
   "source": [
    "for seq in df['sequence']:\n",
    "    if 'N' in seq:\n",
    "        display(df.loc[df['sequence'] == seq])"
   ]
  },
  {
   "cell_type": "code",
   "execution_count": 6,
   "metadata": {},
   "outputs": [],
   "source": [
    "df.drop([1822], inplace = True)"
   ]
  },
  {
   "cell_type": "code",
   "execution_count": 7,
   "metadata": {},
   "outputs": [],
   "source": [
    "for seq in df['sequence']:\n",
    "    if 'N' in seq:\n",
    "        display(df.loc[df['sequence'] == seq])"
   ]
  },
  {
   "cell_type": "code",
   "execution_count": 16,
   "metadata": {},
   "outputs": [],
   "source": [
    "sequence = list(df.loc[:, 'sequence'])\n",
    "encoded_list = []"
   ]
  },
  {
   "cell_type": "code",
   "execution_count": 17,
   "metadata": {},
   "outputs": [
    {
     "data": {
      "text/plain": [
       "(22598, 301, 4)"
      ]
     },
     "execution_count": 17,
     "metadata": {},
     "output_type": "execute_result"
    }
   ],
   "source": [
    "def encode_seq(s):\n",
    "    Encode = {'A':[1,0,0,0],'T':[0,1,0,0],'C':[0,0,1,0],'G':[0,0,0,1]}\n",
    "    return [Encode[x] for x in s]\n",
    "\n",
    "for i in sequence:\n",
    "    x = encode_seq(i)\n",
    "    encoded_list.append(x)\n",
    "\n",
    "X = np.array(encoded_list)\n",
    "X.shape"
   ]
  },
  {
   "cell_type": "code",
   "execution_count": 25,
   "metadata": {},
   "outputs": [
    {
     "data": {
      "text/plain": [
       "(22598, 301, 4, 1)"
      ]
     },
     "execution_count": 25,
     "metadata": {},
     "output_type": "execute_result"
    }
   ],
   "source": [
    "X = X.reshape(X.shape[0],301, 4, 1)\n",
    "X.shape"
   ]
  },
  {
   "cell_type": "code",
   "execution_count": 19,
   "metadata": {},
   "outputs": [
    {
     "data": {
      "text/plain": [
       "(22598,)"
      ]
     },
     "execution_count": 19,
     "metadata": {},
     "output_type": "execute_result"
    }
   ],
   "source": [
    "y = df['label']\n",
    "y.shape"
   ]
  },
  {
   "cell_type": "code",
   "execution_count": 38,
   "metadata": {},
   "outputs": [],
   "source": [
    "X_train, X_test, y_train, y_test = train_test_split(X, y, random_state = 42, stratify = y)"
   ]
  },
  {
   "cell_type": "code",
   "execution_count": 39,
   "metadata": {},
   "outputs": [],
   "source": [
    "y_train = utils.to_categorical(y_train)\n",
    "y_test = utils.to_categorical(y_test)"
   ]
  },
  {
   "cell_type": "code",
   "execution_count": 175,
   "metadata": {},
   "outputs": [],
   "source": [
    "model = Sequential()\n",
    "\n",
    "model.add(Conv2D(filters = 27,       \n",
    "                kernel_size = (3,3),    \n",
    "                activation = 'relu',    \n",
    "              input_shape = (301, 4,1)))\n",
    "model.add(MaxPooling2D(pool_size= (2,2)))\n",
    "model.add(Dropout(0.2))\n",
    "model.add(Conv2D(filters = 14,  \n",
    "                 kernel_size = (2,2),\n",
    "                activation = 'relu',\n",
    "                padding = 'same'))\n",
    "model.add(MaxPooling2D(pool_size= (1,1)))\n",
    "model.add(Dropout(0.2))\n",
    "\n",
    "\n",
    "model.add(Conv2D(filters = 7,  \n",
    "                 kernel_size = (2,2),\n",
    "                activation = 'relu',\n",
    "                padding = 'same'))\n",
    "model.add(MaxPooling2D(pool_size= (1,1)))\n",
    "model.add(Dropout(0.2))\n",
    "\n"
   ]
  },
  {
   "cell_type": "code",
   "execution_count": 176,
   "metadata": {},
   "outputs": [],
   "source": [
    "model.add(Flatten())\n",
    "model.add(Dense(128, activation = 'relu', kernel_regularizer = regularizers.l2(0.001)))\n",
    "model.add(Dense(32, activation = 'relu', kernel_regularizer = regularizers.l2(0.001)))\n",
    "model.add(Dense(2, activation = 'sigmoid'))"
   ]
  },
  {
   "cell_type": "code",
   "execution_count": 177,
   "metadata": {},
   "outputs": [],
   "source": [
    "model.compile(loss='binary_crossentropy',\n",
    "              optimizer='adam',\n",
    "              metrics=['accuracy'])"
   ]
  },
  {
   "cell_type": "code",
   "execution_count": 178,
   "metadata": {},
   "outputs": [
    {
     "name": "stdout",
     "output_type": "stream",
     "text": [
      "Epoch 1/10\n",
      "67/67 [==============================] - 5s 67ms/step - loss: 0.8472 - accuracy: 0.5720 - val_loss: 0.5930 - val_accuracy: 0.7258\n",
      "Epoch 2/10\n",
      "67/67 [==============================] - 5s 67ms/step - loss: 0.5549 - accuracy: 0.7523 - val_loss: 0.5145 - val_accuracy: 0.7722\n",
      "Epoch 3/10\n",
      "67/67 [==============================] - 5s 70ms/step - loss: 0.5171 - accuracy: 0.7738 - val_loss: 0.4872 - val_accuracy: 0.7823\n",
      "Epoch 4/10\n",
      "67/67 [==============================] - 5s 70ms/step - loss: 0.4858 - accuracy: 0.7913 - val_loss: 0.4488 - val_accuracy: 0.8058\n",
      "Epoch 5/10\n",
      "67/67 [==============================] - 5s 78ms/step - loss: 0.4625 - accuracy: 0.7996 - val_loss: 0.4332 - val_accuracy: 0.8156\n",
      "Epoch 6/10\n",
      "67/67 [==============================] - 5s 72ms/step - loss: 0.4429 - accuracy: 0.8129 - val_loss: 0.4265 - val_accuracy: 0.8212\n",
      "Epoch 7/10\n",
      "67/67 [==============================] - 5s 73ms/step - loss: 0.4366 - accuracy: 0.8143 - val_loss: 0.4149 - val_accuracy: 0.8232\n",
      "Epoch 8/10\n",
      "67/67 [==============================] - 5s 74ms/step - loss: 0.4253 - accuracy: 0.8228 - val_loss: 0.4136 - val_accuracy: 0.8216\n",
      "Epoch 9/10\n",
      "67/67 [==============================] - 5s 76ms/step - loss: 0.4138 - accuracy: 0.8235 - val_loss: 0.4018 - val_accuracy: 0.8349\n",
      "Epoch 10/10\n",
      "67/67 [==============================] - 5s 75ms/step - loss: 0.4225 - accuracy: 0.8231 - val_loss: 0.4002 - val_accuracy: 0.8297\n"
     ]
    }
   ],
   "source": [
    "history = model.fit(X_train,\n",
    "                    y_train, \n",
    "                    batch_size=256,\n",
    "                    validation_data=(X_test, y_test),\n",
    "                    epochs=10)"
   ]
  },
  {
   "cell_type": "code",
   "execution_count": null,
   "metadata": {},
   "outputs": [],
   "source": [
    "model = Sequential()\n",
    "\n",
    "model = Sequential()\n",
    "\n",
    "model.add(Embedding(vocab_size,embedding_dim,input_length=max_length))\n",
    "model.add(Bidirectional(LSTM(64,return_sequences=True)))\n",
    "model.add(LSTM(32))\n",
    "model.add(Dense(2,activation = 'softmax'))\n",
    "\n",
    "model.add(Conv2D(filters = 27,       \n",
    "                kernel_size = (3,3),    \n",
    "                activation = 'relu',    \n",
    "              input_shape = (301, 4,1)))\n",
    "model.add(MaxPooling2D(pool_size= (2,2)))\n",
    "model.add(Dropout(0.2))\n",
    "model.add(Conv2D(filters = 14,  \n",
    "                 kernel_size = (2,2),\n",
    "                activation = 'relu',\n",
    "                padding = 'same'))\n",
    "model.add(MaxPooling2D(pool_size= (1,1)))\n",
    "model.add(Dropout(0.2))\n",
    "\n",
    "\n",
    "model.add(Conv2D(filters = 7,  \n",
    "                 kernel_size = (2,2),\n",
    "                activation = 'relu',\n",
    "                padding = 'same'))\n",
    "model.add(MaxPooling2D(pool_size= (1,1)))\n",
    "model.add(Dropout(0.2))\n",
    "\n",
    "model.add(Flatten())\n",
    "model.add(Dense(128, activation = 'relu', kernel_regularizer = regularizers.l2(0.001)))\n",
    "model.add(Dense(32, activation = 'relu', kernel_regularizer = regularizers.l2(0.001)))\n",
    "model.add(Dense(2, activation = 'sigmoid'))"
   ]
  },
  {
   "cell_type": "code",
   "execution_count": null,
   "metadata": {},
   "outputs": [],
   "source": [
    "model.compile(loss='binary_crossentropy',\n",
    "              optimizer='adam',\n",
    "              metrics=['accuracy'])"
   ]
  },
  {
   "cell_type": "code",
   "execution_count": null,
   "metadata": {},
   "outputs": [],
   "source": [
    "history = model.fit(X_train,\n",
    "                    y_train, \n",
    "                    batch_size=256,\n",
    "                    validation_data=(X_test, y_test),\n",
    "                    epochs=10)"
   ]
  }
 ],
 "metadata": {
  "kernelspec": {
   "display_name": "Python 3",
   "language": "python",
   "name": "python3"
  },
  "language_info": {
   "codemirror_mode": {
    "name": "ipython",
    "version": 3
   },
   "file_extension": ".py",
   "mimetype": "text/x-python",
   "name": "python",
   "nbconvert_exporter": "python",
   "pygments_lexer": "ipython3",
   "version": "3.8.5"
  }
 },
 "nbformat": 4,
 "nbformat_minor": 5
}
