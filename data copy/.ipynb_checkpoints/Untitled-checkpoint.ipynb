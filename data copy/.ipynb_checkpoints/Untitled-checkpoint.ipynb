{
 "cells": [
  {
   "cell_type": "code",
   "execution_count": 22,
   "metadata": {},
   "outputs": [],
   "source": [
    "import pandas as pd\n",
    "import numpy as np\n",
    "import os\n",
    "\n",
    "from sklearn.model_selection import train_test_split\n",
    "from sklearn.svm import SVC"
   ]
  },
  {
   "cell_type": "code",
   "execution_count": 2,
   "metadata": {},
   "outputs": [
    {
     "data": {
      "text/html": [
       "<div>\n",
       "<style scoped>\n",
       "    .dataframe tbody tr th:only-of-type {\n",
       "        vertical-align: middle;\n",
       "    }\n",
       "\n",
       "    .dataframe tbody tr th {\n",
       "        vertical-align: top;\n",
       "    }\n",
       "\n",
       "    .dataframe thead th {\n",
       "        text-align: right;\n",
       "    }\n",
       "</style>\n",
       "<table border=\"1\" class=\"dataframe\">\n",
       "  <thead>\n",
       "    <tr style=\"text-align: right;\">\n",
       "      <th></th>\n",
       "      <th>sequence</th>\n",
       "      <th>label</th>\n",
       "    </tr>\n",
       "  </thead>\n",
       "  <tbody>\n",
       "    <tr>\n",
       "      <th>0</th>\n",
       "      <td>TAATTACATTATTTTTTTATTTACGAATTTGTTATTCCGCTTTTAT...</td>\n",
       "      <td>0</td>\n",
       "    </tr>\n",
       "    <tr>\n",
       "      <th>1</th>\n",
       "      <td>ATTTTTACAAGAACAAGACATTTAACTTTAACTTTATCTTTAGCTT...</td>\n",
       "      <td>0</td>\n",
       "    </tr>\n",
       "    <tr>\n",
       "      <th>2</th>\n",
       "      <td>AGAGATAGGTGGGTCTGTAACACTCGAATCAAAAACAATATTAAGA...</td>\n",
       "      <td>0</td>\n",
       "    </tr>\n",
       "    <tr>\n",
       "      <th>3</th>\n",
       "      <td>TATGTATATAGAGATAGGCGTTGCCAATAACTTTTGCGTTTTTTGC...</td>\n",
       "      <td>0</td>\n",
       "    </tr>\n",
       "    <tr>\n",
       "      <th>4</th>\n",
       "      <td>AGAAATAATAGCTAGAGCAAAAAACAGCTTAGAACGGCTGATGCTC...</td>\n",
       "      <td>0</td>\n",
       "    </tr>\n",
       "    <tr>\n",
       "      <th>...</th>\n",
       "      <td>...</td>\n",
       "      <td>...</td>\n",
       "    </tr>\n",
       "    <tr>\n",
       "      <th>11295</th>\n",
       "      <td>TGGTAAAAAATTGTACACCTAACTAGTGCCTTCATGTATACCACCA...</td>\n",
       "      <td>0</td>\n",
       "    </tr>\n",
       "    <tr>\n",
       "      <th>11296</th>\n",
       "      <td>AGTGCAACTGGAGCCGTGCCGTGACCCACAGAGATCGCCCACTCGA...</td>\n",
       "      <td>0</td>\n",
       "    </tr>\n",
       "    <tr>\n",
       "      <th>11297</th>\n",
       "      <td>GCATGGATTTCATATTATCTTAATCGACTTGCTTTTATAAAATAGG...</td>\n",
       "      <td>0</td>\n",
       "    </tr>\n",
       "    <tr>\n",
       "      <th>11298</th>\n",
       "      <td>GTGACCAGGTTTTGCTCTAATGCGAAGTACGGATTGGGTAGAGATA...</td>\n",
       "      <td>0</td>\n",
       "    </tr>\n",
       "    <tr>\n",
       "      <th>11299</th>\n",
       "      <td>TCATATTGAAAATTGATAAGATTGATATTAACGTAGCAAAGAAAGC...</td>\n",
       "      <td>0</td>\n",
       "    </tr>\n",
       "  </tbody>\n",
       "</table>\n",
       "<p>11300 rows × 2 columns</p>\n",
       "</div>"
      ],
      "text/plain": [
       "                                                sequence  label\n",
       "0      TAATTACATTATTTTTTTATTTACGAATTTGTTATTCCGCTTTTAT...      0\n",
       "1      ATTTTTACAAGAACAAGACATTTAACTTTAACTTTATCTTTAGCTT...      0\n",
       "2      AGAGATAGGTGGGTCTGTAACACTCGAATCAAAAACAATATTAAGA...      0\n",
       "3      TATGTATATAGAGATAGGCGTTGCCAATAACTTTTGCGTTTTTTGC...      0\n",
       "4      AGAAATAATAGCTAGAGCAAAAAACAGCTTAGAACGGCTGATGCTC...      0\n",
       "...                                                  ...    ...\n",
       "11295  TGGTAAAAAATTGTACACCTAACTAGTGCCTTCATGTATACCACCA...      0\n",
       "11296  AGTGCAACTGGAGCCGTGCCGTGACCCACAGAGATCGCCCACTCGA...      0\n",
       "11297  GCATGGATTTCATATTATCTTAATCGACTTGCTTTTATAAAATAGG...      0\n",
       "11298  GTGACCAGGTTTTGCTCTAATGCGAAGTACGGATTGGGTAGAGATA...      0\n",
       "11299  TCATATTGAAAATTGATAAGATTGATATTAACGTAGCAAAGAAAGC...      0\n",
       "\n",
       "[11300 rows x 2 columns]"
      ]
     },
     "metadata": {},
     "output_type": "display_data"
    },
    {
     "data": {
      "text/plain": [
       "(11300, 2)"
      ]
     },
     "metadata": {},
     "output_type": "display_data"
    }
   ],
   "source": [
    "df = pd.read_csv('NonPromoterSequence.txt', sep = '>', )\n",
    "df.dropna(subset=['Unnamed: 0'], how='all', inplace=True)\n",
    "df.reset_index(inplace = True)\n",
    "df.drop(['EP 1 (+) mt:CoI_1; range -400 to -100.', 'index'], axis = 1, inplace=True)\n",
    "df.rename(columns={'Unnamed: 0': \"sequence\"}, inplace = True)\n",
    "df['label'] = 0\n",
    "display(df)\n",
    "display(df.shape)"
   ]
  },
  {
   "cell_type": "code",
   "execution_count": 3,
   "metadata": {},
   "outputs": [
    {
     "data": {
      "text/html": [
       "<div>\n",
       "<style scoped>\n",
       "    .dataframe tbody tr th:only-of-type {\n",
       "        vertical-align: middle;\n",
       "    }\n",
       "\n",
       "    .dataframe tbody tr th {\n",
       "        vertical-align: top;\n",
       "    }\n",
       "\n",
       "    .dataframe thead th {\n",
       "        text-align: right;\n",
       "    }\n",
       "</style>\n",
       "<table border=\"1\" class=\"dataframe\">\n",
       "  <thead>\n",
       "    <tr style=\"text-align: right;\">\n",
       "      <th></th>\n",
       "      <th>sequence</th>\n",
       "      <th>label</th>\n",
       "    </tr>\n",
       "  </thead>\n",
       "  <tbody>\n",
       "    <tr>\n",
       "      <th>0</th>\n",
       "      <td>TTAATTTGTCCTTATTTGATTAAGAAGAATAAATCTTATATATAGA...</td>\n",
       "      <td>1</td>\n",
       "    </tr>\n",
       "    <tr>\n",
       "      <th>1</th>\n",
       "      <td>ATAGCTCAAATTGCTTTATTAGTATTAGAATCAGCTGTAGCTATAA...</td>\n",
       "      <td>1</td>\n",
       "    </tr>\n",
       "    <tr>\n",
       "      <th>2</th>\n",
       "      <td>AAGCTTCCCTTTAATGTGCTCCTTGTGAATACAGCATTACAATGCC...</td>\n",
       "      <td>1</td>\n",
       "    </tr>\n",
       "    <tr>\n",
       "      <th>3</th>\n",
       "      <td>TATGTAGAATCTGTACAAGTATCTGTGTTTGGACAATGGCATGTGT...</td>\n",
       "      <td>1</td>\n",
       "    </tr>\n",
       "    <tr>\n",
       "      <th>4</th>\n",
       "      <td>ACATATTACTGCATACAGGTCTCAAATTATAAAATGACACTCGTGG...</td>\n",
       "      <td>1</td>\n",
       "    </tr>\n",
       "    <tr>\n",
       "      <th>...</th>\n",
       "      <td>...</td>\n",
       "      <td>...</td>\n",
       "    </tr>\n",
       "    <tr>\n",
       "      <th>11295</th>\n",
       "      <td>CGACAAAGTTTGATCCATGTGCATTCTTGGCGCCTTATCGATAGCT...</td>\n",
       "      <td>1</td>\n",
       "    </tr>\n",
       "    <tr>\n",
       "      <th>11296</th>\n",
       "      <td>CATATCTACATCTCGCTTGCTCCTTCCCTTTCGCTGCGTGTGTGTG...</td>\n",
       "      <td>1</td>\n",
       "    </tr>\n",
       "    <tr>\n",
       "      <th>11297</th>\n",
       "      <td>ATACCGCGGAAGCGCAAAAGTACCAGAATTTCCCTGGTATCGCGCT...</td>\n",
       "      <td>1</td>\n",
       "    </tr>\n",
       "    <tr>\n",
       "      <th>11298</th>\n",
       "      <td>ATTATTCCGAATTCTTTTATCAGATTTAAATATGGGAAACACTTTA...</td>\n",
       "      <td>1</td>\n",
       "    </tr>\n",
       "    <tr>\n",
       "      <th>11299</th>\n",
       "      <td>AATTCATTTATACCTGCATTTGTAACTGTACTAAATCTTCAACCAA...</td>\n",
       "      <td>1</td>\n",
       "    </tr>\n",
       "  </tbody>\n",
       "</table>\n",
       "<p>11300 rows × 2 columns</p>\n",
       "</div>"
      ],
      "text/plain": [
       "                                                sequence  label\n",
       "0      TTAATTTGTCCTTATTTGATTAAGAAGAATAAATCTTATATATAGA...      1\n",
       "1      ATAGCTCAAATTGCTTTATTAGTATTAGAATCAGCTGTAGCTATAA...      1\n",
       "2      AAGCTTCCCTTTAATGTGCTCCTTGTGAATACAGCATTACAATGCC...      1\n",
       "3      TATGTAGAATCTGTACAAGTATCTGTGTTTGGACAATGGCATGTGT...      1\n",
       "4      ACATATTACTGCATACAGGTCTCAAATTATAAAATGACACTCGTGG...      1\n",
       "...                                                  ...    ...\n",
       "11295  CGACAAAGTTTGATCCATGTGCATTCTTGGCGCCTTATCGATAGCT...      1\n",
       "11296  CATATCTACATCTCGCTTGCTCCTTCCCTTTCGCTGCGTGTGTGTG...      1\n",
       "11297  ATACCGCGGAAGCGCAAAAGTACCAGAATTTCCCTGGTATCGCGCT...      1\n",
       "11298  ATTATTCCGAATTCTTTTATCAGATTTAAATATGGGAAACACTTTA...      1\n",
       "11299  AATTCATTTATACCTGCATTTGTAACTGTACTAAATCTTCAACCAA...      1\n",
       "\n",
       "[11300 rows x 2 columns]"
      ]
     },
     "metadata": {},
     "output_type": "display_data"
    },
    {
     "data": {
      "text/plain": [
       "(11300, 2)"
      ]
     },
     "metadata": {},
     "output_type": "display_data"
    }
   ],
   "source": [
    "df2 = pd.read_csv('PromoterSequence.txt', sep = '>', )\n",
    "df2.dropna(subset=['Unnamed: 0'], how='all', inplace=True)\n",
    "df2.reset_index(inplace = True)\n",
    "df2.drop(['EP 1 (+) mt:CoI_1; range -100 to 200.', 'index'], axis = 1, inplace=True)\n",
    "df2.rename(columns={'Unnamed: 0': \"sequence\"}, inplace = True)\n",
    "df2['label'] = 1\n",
    "\n",
    "display(df2)\n",
    "display(df2.shape)"
   ]
  },
  {
   "cell_type": "code",
   "execution_count": 4,
   "metadata": {},
   "outputs": [
    {
     "data": {
      "text/plain": [
       "(22600, 2)"
      ]
     },
     "execution_count": 4,
     "metadata": {},
     "output_type": "execute_result"
    }
   ],
   "source": [
    "df = pd.concat([df, df2], axis = 0 )\n",
    "df.shape"
   ]
  },
  {
   "cell_type": "code",
   "execution_count": 9,
   "metadata": {},
   "outputs": [
    {
     "data": {
      "text/html": [
       "<div>\n",
       "<style scoped>\n",
       "    .dataframe tbody tr th:only-of-type {\n",
       "        vertical-align: middle;\n",
       "    }\n",
       "\n",
       "    .dataframe tbody tr th {\n",
       "        vertical-align: top;\n",
       "    }\n",
       "\n",
       "    .dataframe thead th {\n",
       "        text-align: right;\n",
       "    }\n",
       "</style>\n",
       "<table border=\"1\" class=\"dataframe\">\n",
       "  <thead>\n",
       "    <tr style=\"text-align: right;\">\n",
       "      <th></th>\n",
       "      <th>sequence</th>\n",
       "      <th>label</th>\n",
       "    </tr>\n",
       "  </thead>\n",
       "  <tbody>\n",
       "    <tr>\n",
       "      <th>1822</th>\n",
       "      <td>NNNNNNNNNNNNNNNNNNNNNNNNNNNNNNNNNNNNNNNNGAATTC...</td>\n",
       "      <td>0</td>\n",
       "    </tr>\n",
       "  </tbody>\n",
       "</table>\n",
       "</div>"
      ],
      "text/plain": [
       "                                               sequence  label\n",
       "1822  NNNNNNNNNNNNNNNNNNNNNNNNNNNNNNNNNNNNNNNNGAATTC...      0"
      ]
     },
     "metadata": {},
     "output_type": "display_data"
    }
   ],
   "source": [
    "for seq in df['sequence']:\n",
    "    if 'N' in seq:\n",
    "        display(df.loc[df['sequence'] == seq])"
   ]
  },
  {
   "cell_type": "code",
   "execution_count": 10,
   "metadata": {},
   "outputs": [],
   "source": [
    "df.drop([1822], inplace = True)"
   ]
  },
  {
   "cell_type": "code",
   "execution_count": 11,
   "metadata": {},
   "outputs": [],
   "source": [
    "for seq in df['sequence']:\n",
    "    if 'N' in seq:\n",
    "        display(df.loc[df['sequence'] == seq])"
   ]
  },
  {
   "cell_type": "code",
   "execution_count": 17,
   "metadata": {
    "scrolled": true
   },
   "outputs": [
    {
     "data": {
      "text/plain": [
       "<PandasArray>\n",
       "['TAATTACATTATTTTTTTATTTACGAATTTGTTATTCCGCTTTTATAATAAATTATTTTGAAAATAATTGAATCATAAAGATAAATATAAATAGTATTAATTATAATATATATATAATTATAACTTTTTTTTCAATTTTTGGATTATTTTTAATTTCTTTATTTTATTTTATATTTTAAGGCTTTAAGTTAATAAAACTAATAACCTTCAAAGCTATAAATAAAGAAATTTCTTTAAGCCTTAGTAAAACTTACTCCTTCAAAATTGCAGTTTGATATCATTATTGACTATAAGACCTAAT',\n",
       " 'ATTTTTACAAGAACAAGACATTTAACTTTAACTTTATCTTTAGCTTTACCTTTATGATTATGTTTTATATTATATGGATGAATTAATCATACACAACATATATTTGCTCATTTAGTTCCTCAAGGAACACCCGCTATTCTTATACCTTTTATAGTATGTATTGAAACTATTAGAAATATTATTCGACCTGGAACATTAGCTGTTCGATTAACTGCTAATATAATTGCTGGACATTTATTATTAACTCTTTTAGGAAATACAGGATCTTCTATATCTTATATATTAATAACATTTTTATTAA',\n",
       " 'AGAGATAGGTGGGTCTGTAACACTCGAATCAAAAACAATATTAAGATAAAAATAGCGCGCACGGCAAGTGTTGCATGGAAGAAGATGAGATCAATTTAGATTCTTTGGAGATTGCTCTTTTTAACGCGACTACCATTTCATTGATATTATTTTACAAAAATGTTCCTGGAACATTTTAGACTCCATCGGTGGTGTCTTCTTTCTTTTTTCTTTTAACATTAGCCAATTGATTGGATGTGGAATCAGAACTGAAAACATTTAAACGATATCTACATAAATACTTCCGAGGTTTTTAATGGTA',\n",
       " 'TATGTATATAGAGATAGGCGTTGCCAATAACTTTTGCGTTTTTTGCTTAAAAATAATATTGTATCGCCGAGGACAAAAATTACCCACTGAGAGACACAAACTACTAGCGTAAAAATATCTATATTAACAGCACTGGCATCGAAAAGTATCTTAACTCACGTACGAGTATATGTATTGTGTGGCCATCTTCGATCTGCCCGCCTTCGCCGACTGTTCGTGATCCGTAGGTACACACAGACATTTAAATCACCAATGCACTTGTTACTGTATTGTATTTATGTTTGTGAACCTACACGTATCT',\n",
       " 'AGAAATAATAGCTAGAGCAAAAAACAGCTTAGAACGGCTGATGCTCTTCTATTTTTTGTTATGTATTACAGTTACAAATTTGTTGGTCACGACATTTACTCTTTACTGTTTTCTGTTTATATTTTATTAAACTACAAGCGTAACTGTTCCTTTAAGGTATATTTTACAAGGATTTCGTAGTTTGTACTTCCCATAATACAAGTTGTAGATATATCCTTTGGCTCACTAAAAAGTAATCGTGTACACAGTGCTCCAAAAAATTTTCGGAACGCAGCACAATGAGAAAGCGATATAACACGGA',\n",
       " 'CTTTAAAATTAGGATGGCAATGCCCGACAAGTTCAGTGATTAGCGAAATACGATATCTTTAAATTGTAGCGTATGGGTGAAAACTGCATGAGTTTATCATGTACATAATCCATTCTAAAAACTAAGCATGACCCCAAACCGCTATTAGGAGTTTAAATGAATATATCGACCTTTAGCTTAAGCGAACCAAAATAATAAAAAATCTTATTATTGTGTTTTAACATCTAACAAACATTGAAAAGTTAAAAATGAAAATTCTTGTTATAATTTTTTTTGATTATTTAATGCTAATCGAGCCATT',\n",
       " 'TTTTTAAATAACTAAGGGGCAGAGTGATCTTGTGATGATGTGGCATAAACATCAATAGTCCAATGAGTAAACTATTTTATCCTAAGTAAATAAGATCTGCTTTGATATAAAAAAGGCACTTCGGCCAAAGTGCACATTTTACAAATCGAAAAAATTTTATAAATTCGAAAACCGGACCACCGACCTTGCGATTTCAAATCGAAATCCTAAAATTCTTAGAATTCGATTACCGGAGCATGCGCGTATAATAAAATCCTTTATAATAATGCAACAGCAGCACTGGTTGCGTAAATGGAATTTT',\n",
       " 'ATAAATGTAATTAAAATACTAAATTGACTATATACTATATACATATATGCTGATTAATATTCCTTCTCGTAGTGAATTCCTGAATTGTATTTCAGAAAAAGAAGAATTTTCAGTTGCATGTCTTATGTATCAACTGCTGAATTTTCAACAAAAAATAAAAGTTAAATGATTACAGATACAGCATTAGTTCAGTGTTATGACAATAGGTAAATAAAGTACATGTGTATATTTGTACCTATGTATGGGATTCAGATCACCGCAGCGGGAAATAAAATACACCATCGTCCCAAAACTCTTCGAT',\n",
       " 'AATCCTAATAACAGAAGCAGTCGAACCTTATTTTTTCTATAAAAGCAAGTGGTCAAAATTGCGGTATAAGGGTATATGAGGAGGACAAGTGGTTGAAGATTTTAACGAAAAGTGGTGGATATAGTGAAAACCTTAGAGGAGCCATATGGTCACCATAATGGTAACAAAATGTATGGCTAAATAGGGTTGTTGCTGAGAACTTATTGAAATCGACTAATCTATATACTAAAACGAGACCGACTACATGAGTCCTTGACCACCCGAGCGACAACCACTTCGACCCTATAAGCCCGACAGTAAT',\n",
       " 'TTTGGATGAGCTTATATAATAATACAATTCATACATTTGAGCACTTCCATGTTGACTTCTTATAAAAATAATTATTATTTGCCTGAAAACGGTTTAGAATATACATATGTTATTTCCGAAAAACAACAAGATCTATTATACATATAATGTGAGTGGTAGTACCATTCAAATACATACATACATATTTATTTTATATACATACGTCTGTACAATTCTCGGATTTCAAGTTGTCATACGACAAGGCTGGTGAAAACCGGGCCAAAGCACAAAGCTTTGTAATGTCTTTTTAAGTAACAACTTT',\n",
       " ...\n",
       " 'TTAATGATTACAATTTTTTAGAAGGAACCAAGGTGTCACATCAGTGGCAATCTTCACTGTGCCTTACATAGAGGGTACTTTGCAGTTCGATGGTCACACTATTCCAAATCCCATTCCTTTCACATGTTTGTGTTTACAATATAATTGTGCAGAGCATTTAGTGGAGAAGACGACGAGGATGAGCGAAGGAAAGCAGCAGGGTCCTGGCGATGGCATCCGATCCATGCGAAGCACCGGAGTCTTCCGGCTGATCAACTTCGAGTTGTACACCAAGCCGGTGCGGTTTCATTTAAACTTTGAT',\n",
       " 'GAATGGCTATCTTACACAGTAAGCTGTTTCAAAATATTCAACAGTTGTGTATTCCAAAAACATCCCCCAATTAATATTTGATCCTTGGAAACATTACTTACACAGTCAGCTGTTTCAAAATATTCAACAGTTGTGTGTTCCAAAAACATCCCCCAATTAATATTTGATCCTTGGAAACATTACTTTTTAGACAAATAGCATTTTCATTTTCAAATGGATTGTTAAGTAGATTTTTAATGATTACAATTTTTTAGAAGGAACCAAGGTGTCACATCAGTGGCAATCTTCACTGTGCCTTACA',\n",
       " 'TATTCAAACAATTAGCGTATATATAACATAATGTAAGGAACCTACGTTTTTTGCGTGAGGTATTCAGACCATCCACGACTGGTCACATTGGGGGAGCACCAAAATGTATTTTTGTTTGTTATTCAATTGAGTTGACCTGCTTGAAACGATCCAGAATACAGAAACTATCTCTCGCTCCGGCTATTTTAACAGACTCTGTACCTAGATTGTGTCGCGAGGATCGCATCCCGGGCCATGGCTTCCGAGCCGAGATCCCTAATTCTGCAATTGGACGACGACTGTCTGGCCGAGATTTTCGATC',\n",
       " 'GAAGAATACCCGCTGCATTGACAGTGTTGAGAAACGGGGTGCAGGGGTGGCCACACCGTTGGCAGCCGCGTAGTGCTGCCATACCACTGATAAGTAGAAAACACGTGTGAGTGCGCATTCTTTTTTGTGGGACAAGCGGCTAGTAATTATTTGCGGACGGAAAATATTGACGAATAGTTGAATTAATCATGACAGACCTGCTAAAGATAGCCGATGCAATCGTCCTGGAGTACTTGCAGTCCAAGGACAAGAACCTAGCCAAGGTTTTCCAGCAGAAGACGAAGGCGGTAAGTTTCAGTGC',\n",
       " 'CGCTTCGTAGACAGAACAGCTGATGCTCGTCAAATTTTAGCTTCTGCTTGTGCAAAAAGCGCTCTGAGTGCGCTTGTGTGTGAGTGCGTGTGTGAGCATGGGAAAGGGAACGTGGTTATCGATAATAAAGTAAACTGAAAATAAATCAGTCATCCGCTCGGTTGACCAACTGCCCAAGTTAGTGCACCTTCTAGAATTTCTTGCAAGTGCACATTCTTTTGGTTCGCAGTGTTTCTGTTTTGCGCCTTATCTGGGGGGTGTGTCGTCGTCGGGAGCTTCACGTTTGGCTGGTTATCAAAAT',\n",
       " 'CGACAAAGTTTGATCCATGTGCATTCTTGGCGCCTTATCGATAGCTATGGACAGTGTTGTAAGGTGCACGATAGTAAGGGGGGCAAAATTGTATCGGTCTGCCGATAGTTCCCGGCCGTTAGCCAAGTCCAAATTCGACCGACCGACCAATAGTCTCGCAAAACACAAAACAAAGGCACACCACACTTCGTGCTCTCGCCGAATTCCGCCGCCGTCGCCTGAAACTCACACAAAGTAAGCCCGAAATCAGTGGAAAAGCGCCGAATAGTCGAATTGCAGGTTCAAATGGGATGGACGGCGA',\n",
       " 'CATATCTACATCTCGCTTGCTCCTTCCCTTTCGCTGCGTGTGTGTGTGTGCGTGACTGTGTGTGTGAGAGGCGGGGGGATATTTCGATTCAGTTATTTGTGCAATTTCGCTCAGTCAAGTTGTGTGTTCCTTGTGCAGTGTGTGCGCCTGGCATCCATCAATCAGCCGACCGAGTTTGACGAAAGGAGATAAGATACCCAGAAATTACCCAACAAATTTACAAGATTCCTCCAGCCTTCCCCCGCCTGGCAACCGATATCAGCGGATTAAGTGCATAATCCTTCAACAGCAAAACGCCGCC',\n",
       " 'ATACCGCGGAAGCGCAAAAGTACCAGAATTTCCCTGGTATCGCGCTCTCTCTCTCCCGTTGAGCGCAAACACCCACCCCGAGCGCCGCCTGCACCGTTGTTCATCAGTGTATCTGCTTCGCCCTGCTTGGGCTACTCATTCGGCGAAAATTAATGGTGGTGTTCGGTTCTACGTCGCGCAAGGCACAGTCTCTAGAGTCTCGCAGAGCTAAGAATACATCTCAGAAAATCGGCAACCAATATCCCAAGTTCAGCCAAGTTTGCGGTGTGTAGGCAAGCCATCGAAAAGTAACGACCGAAAT',\n",
       " 'ATTATTCCGAATTCTTTTATCAGATTTAAATATGGGAAACACTTTAATGTATTCAGTATTCAAAAATGCATCGGTATTTTAAGAAGTCCCCGCCACGGCCACACTCCTGGCGCGCAGTGAAATTCGCGCAATAATACGAAATGAAATCATGTCCAGCGCACGCAGCCATGTCAGCATGCAGAACAAGTACGACCGCGTGGTCCTGCTGGTGGACATGGACTGCTTCTTTTGCCAGGTGGAGGAGAAGCAGCATCCGGAATACCGCAACCGCCCGCTGGCCGTCGTCCAGTACAATCCCTGG',\n",
       " 'AATTCATTTATACCTGCATTTGTAACTGTACTAAATCTTCAACCAACCGAGTTTCCTTTAAACTTTGCTTTAAAACCTAAGCAGTATTTGTAACCTAGTTATACGTTGGTTTCATCTACCCTTTTATTTGCCCACTTCCAGCACACTTTTATGACAAAAACAACAAAATCTAGTGATATTTTTACTTCTTTCATTGAATCTGAACAATAAAGCATAAATACATTATAATGGCCCTACTATTTCCCGATGAGCTGAAAATTTATTCACCTGACAGCATTAAAATACGGTTGCATTGAAGCCG']\n",
       "Length: 22598, dtype: object"
      ]
     },
     "execution_count": 17,
     "metadata": {},
     "output_type": "execute_result"
    }
   ],
   "source": [
    "X = df['sequence'].array\n",
    "X"
   ]
  },
  {
   "cell_type": "code",
   "execution_count": 18,
   "metadata": {},
   "outputs": [],
   "source": [
    "def encode_seq(s):\n",
    "    Encode = {'A':[1,0,0,0],'T':[0,1,0,0],'C':[0,0,1,0],'G':[0,0,0,1]}\n",
    "    return np.array([Encode[x] for x in s])\n",
    "\n",
    "encoded_list = []\n",
    "for i in X:\n",
    "    encoded_list.append(encode_seq(i))\n",
    "\n",
    "encoded_list"
   ]
  },
  {
   "cell_type": "code",
   "execution_count": 23,
   "metadata": {},
   "outputs": [],
   "source": [
    "X = encoded_list\n",
    "y = df['label']\n",
    "\n",
    "X_train, X_test, y_train, y_test = train_test_split(X, y, random_state = 42, stratify = y)"
   ]
  }
 ],
 "metadata": {
  "kernelspec": {
   "display_name": "Python 3",
   "language": "python",
   "name": "python3"
  },
  "language_info": {
   "codemirror_mode": {
    "name": "ipython",
    "version": 3
   },
   "file_extension": ".py",
   "mimetype": "text/x-python",
   "name": "python",
   "nbconvert_exporter": "python",
   "pygments_lexer": "ipython3",
   "version": "3.8.5"
  }
 },
 "nbformat": 4,
 "nbformat_minor": 5
}
